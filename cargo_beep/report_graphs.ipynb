{
 "cells": [
  {
   "cell_type": "code",
   "execution_count": 1,
   "metadata": {},
   "outputs": [],
   "source": [
    "from rosbags.rosbag2 import Reader\n",
    "from rclpy.serialization import deserialize_message\n",
    "from beep_interfaces.msg import MotorData, TuningValues, Setpoints\n",
    "from std_msgs.msg import Float32\n",
    "\n",
    "from pathlib import Path\n",
    "from glob import glob\n",
    "from pid_helper import IMU_ANGLE_ERROR\n",
    "\n",
    "import numpy as np\n",
    "import matplotlib.pyplot as plt\n",
    "import math"
   ]
  },
  {
   "cell_type": "code",
   "execution_count": 2,
   "metadata": {},
   "outputs": [],
   "source": [
    "\n",
    "class TopicMeta:\n",
    "    def __init__ (self, name, type):\n",
    "        self.name = name\n",
    "        self.type = type\n",
    "\n",
    "topic_metas = {\n",
    "    \"/dev0/motor_data\": TopicMeta(\"motor0\", MotorData),\n",
    "    \"/dev1/motor_data\": TopicMeta(\"motor1\", MotorData),\n",
    "    \"/output/lean_tuning_values\": TopicMeta(\"lean_tuning\", TuningValues),\n",
    "    \"/output/lean_angle\": TopicMeta(\"lean_angle\", Float32),\n",
    "    \"/output/turn_tuning_values\": TopicMeta(\"turn_tuning\", TuningValues),\n",
    "    \"/output/turn_angle\": TopicMeta(\"turn_angle\", Float32),\n",
    "    \"/setpoints\": TopicMeta(\"setpoints\", Setpoints),\n",
    "    \"/dev0/duty\": TopicMeta(\"duty\", Float32)\n",
    "}\n",
    "\n",
    "def get_all_data(path):\n",
    "    data = {}\n",
    "    timestamps = {}\n",
    "    \n",
    "    #read from rosbags\n",
    "    with Reader(path) as reader:\n",
    "        for connection in reader.connections:\n",
    "            if connection.topic in topic_metas.keys():\n",
    "                print(connection.topic, connection.msgtype)\n",
    "                name = topic_metas[connection.topic].name\n",
    "                data[name] = []\n",
    "                timestamps[name] = []\n",
    "\n",
    "        for connection, timestamp, rawdata in reader.messages():\n",
    "            if connection.topic in topic_metas:\n",
    "                meta = topic_metas[connection.topic]\n",
    "                msg = deserialize_message(rawdata, meta.type)\n",
    "                data[meta.name].append(msg)\n",
    "                timestamps[meta.name].append(timestamp)\n",
    "\n",
    "    #turn timestamps to time\n",
    "    time = timestamps\n",
    "    for key, val in timestamps.items():\n",
    "        time[key] = np.array(val)\n",
    "        \n",
    "    return data, time\n",
    "\n",
    "def get_graphable_data(data, time, source, attribute=\"data\", getTimestamps = False):\n",
    "    r_time = time[source]\n",
    "    if (getTimestamps==False):\n",
    "        r_time = (time[source] - time[source][0]) / 1e9\n",
    "        \n",
    "    return np.array(list(map(lambda x: getattr(x, attribute), data[source]))), r_time\n",
    "\n",
    "def synch_timestamps (timestamps):\n",
    "    earliest = min(list(map(lambda x: x[0], timestamps)))\n",
    "    times = list(map(lambda x: (x - earliest) / 1e9, timestamps))\n",
    "    return times"
   ]
  },
  {
   "cell_type": "code",
   "execution_count": 4,
   "metadata": {},
   "outputs": [
    {
     "ename": "NameError",
     "evalue": "name 'path' is not defined",
     "output_type": "error",
     "traceback": [
      "\u001b[0;31m---------------------------------------------------------------------------\u001b[0m",
      "\u001b[0;31mNameError\u001b[0m                                 Traceback (most recent call last)",
      "Cell \u001b[0;32mIn[4], line 2\u001b[0m\n\u001b[1;32m      1\u001b[0m test1_path \u001b[38;5;241m=\u001b[39m Path(\u001b[38;5;124m\"\u001b[39m\u001b[38;5;124m../../important_data/10-14/center_kick/src/important_data/10-14/center_kick/rosbag2_2024_10_12-14_42_35_0.db3\u001b[39m\u001b[38;5;124m\"\u001b[39m)\n\u001b[0;32m----> 2\u001b[0m data, time \u001b[38;5;241m=\u001b[39m get_all_data(\u001b[43mpath\u001b[49m)\n",
      "\u001b[0;31mNameError\u001b[0m: name 'path' is not defined"
     ]
    }
   ],
   "source": [
    "test1_path = Path(\"../../important_data/10-14/center_kick/src/important_data/10-14/center_kick/rosbag2_2024_10_12-14_42_35_0.db3\")\n",
    "data, time = get_all_data(test1_path)\n"
   ]
  },
  {
   "cell_type": "code",
   "execution_count": null,
   "metadata": {},
   "outputs": [],
   "source": []
  }
 ],
 "metadata": {
  "kernelspec": {
   "display_name": "Python 3",
   "language": "python",
   "name": "python3"
  },
  "language_info": {
   "codemirror_mode": {
    "name": "ipython",
    "version": 3
   },
   "file_extension": ".py",
   "mimetype": "text/x-python",
   "name": "python",
   "nbconvert_exporter": "python",
   "pygments_lexer": "ipython3",
   "version": "3.10.12"
  }
 },
 "nbformat": 4,
 "nbformat_minor": 2
}
