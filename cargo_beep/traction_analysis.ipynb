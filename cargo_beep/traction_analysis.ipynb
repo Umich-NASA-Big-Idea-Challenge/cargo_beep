{
 "cells": [
  {
   "cell_type": "code",
   "execution_count": 2,
   "metadata": {},
   "outputs": [],
   "source": [
    "from rosbags.rosbag2 import Reader\n",
    "from rclpy.serialization import deserialize_message\n",
    "from beep_interfaces.msg import MotorData\n",
    "from sensor_msgs.msg import Imu\n",
    "\n",
    "from pathlib import Path\n",
    "from glob import glob\n",
    "\n",
    "import numpy as np\n",
    "import matplotlib.pyplot as plt\n",
    "import scipy.integrate as integrate\n",
    "\n",
    "from robot_constants import WHEEL_RADIUS"
   ]
  },
  {
   "cell_type": "code",
   "execution_count": 3,
   "metadata": {},
   "outputs": [],
   "source": [
    "class TopicMeta:\n",
    "    def __init__ (self, name, type):\n",
    "        self.name = name\n",
    "        self.type = type\n",
    "\n",
    "topic_metas = {\n",
    "    \"/dev0/motor_data\": TopicMeta(\"motor0\", MotorData),\n",
    "    \"/dev1/motor_data\": TopicMeta(\"motor1\", MotorData),\n",
    "    \"/imu0/data\": TopicMeta(\"imu\", Imu)\n",
    "}\n",
    "\n",
    "def get_all_data(path):\n",
    "    data = {}\n",
    "    timestamps = {}\n",
    "    \n",
    "    #read from rosbags\n",
    "    with Reader(path) as reader:\n",
    "        for connection in reader.connections:\n",
    "            if connection.topic in topic_metas.keys():\n",
    "                print(connection.topic, connection.msgtype)\n",
    "                name = topic_metas[connection.topic].name\n",
    "                data[name] = []\n",
    "                timestamps[name] = []\n",
    "\n",
    "        for connection, timestamp, rawdata in reader.messages():\n",
    "            if connection.topic in topic_metas:\n",
    "                meta = topic_metas[connection.topic]\n",
    "                msg = deserialize_message(rawdata, meta.type)\n",
    "                data[meta.name].append(msg)\n",
    "                timestamps[meta.name].append(timestamp)\n",
    "\n",
    "    #turn timestamps to time\n",
    "    time = timestamps\n",
    "    for key, val in timestamps.items():\n",
    "        time[key] = np.array(val)\n",
    "        \n",
    "    return data, time\n",
    "\n",
    "def reduce_object_vector (vector, attribute):\n",
    "    return np.array(list(map(lambda x: getattr(x, attribute), vector)))\n",
    "    \n",
    "def get_graphable_data(data, time, source, attribute=\"data\", getTimestamps = False):\n",
    "    r_time = time[source]\n",
    "    if (getTimestamps==False):\n",
    "        r_time = (time[source] - time[source][0]) / 1e9\n",
    "        \n",
    "    return reduce_object_vector(data[source], attribute), r_time\n",
    "\n",
    "def synch_timestamps (timestamps):\n",
    "    earliest = min(list(map(lambda x: x[0], timestamps)))\n",
    "    times = list(map(lambda x: (x - earliest) / 1e9, timestamps))\n",
    "    return times\n"
   ]
  },
  {
   "cell_type": "code",
   "execution_count": 4,
   "metadata": {},
   "outputs": [
    {
     "name": "stdout",
     "output_type": "stream",
     "text": [
      "/dev1/motor_data beep_interfaces/msg/MotorData\n",
      "/dev0/motor_data beep_interfaces/msg/MotorData\n",
      "/imu0/data sensor_msgs/msg/Imu\n"
     ]
    }
   ],
   "source": [
    "bags = glob(\"../bags/*\")\n",
    "bags.sort()\n",
    "path = Path(bags[-1])\n",
    "data, time = get_all_data(path)"
   ]
  },
  {
   "cell_type": "code",
   "execution_count": 37,
   "metadata": {},
   "outputs": [
    {
     "ename": "TypeError",
     "evalue": "float() argument must be a string or a real number, not 'Vector3'",
     "output_type": "error",
     "traceback": [
      "\u001b[0;31m---------------------------------------------------------------------------\u001b[0m",
      "\u001b[0;31mTypeError\u001b[0m                                 Traceback (most recent call last)",
      "Cell \u001b[0;32mIn[37], line 22\u001b[0m\n\u001b[1;32m     19\u001b[0m linear_velocity_x_interpolated \u001b[38;5;241m=\u001b[39m np\u001b[38;5;241m.\u001b[39mempty(interpolated_t\u001b[38;5;241m.\u001b[39mshape)\n\u001b[1;32m     20\u001b[0m motor_angular_velocity_interpolated \u001b[38;5;241m=\u001b[39m np\u001b[38;5;241m.\u001b[39mempty(interpolated_t\u001b[38;5;241m.\u001b[39mshape)\n\u001b[0;32m---> 22\u001b[0m \u001b[43mlinear_acceleration_interpolated\u001b[49m\u001b[43m[\u001b[49m\u001b[38;5;241;43m0\u001b[39;49m\u001b[43m]\u001b[49m \u001b[38;5;241m=\u001b[39m  linear_acceleration[\u001b[38;5;241m0\u001b[39m]\n\u001b[1;32m     23\u001b[0m linear_velocity_x_interpolated[\u001b[38;5;241m0\u001b[39m] \u001b[38;5;241m=\u001b[39m linear_velocity_x[\u001b[38;5;241m0\u001b[39m]\n\u001b[1;32m     24\u001b[0m motor_angular_velocity_interpolated[\u001b[38;5;241m0\u001b[39m] \u001b[38;5;241m=\u001b[39m  motor_angular_velocity[\u001b[38;5;241m0\u001b[39m]\n",
      "\u001b[0;31mTypeError\u001b[0m: float() argument must be a string or a real number, not 'Vector3'"
     ]
    }
   ],
   "source": [
    "linear_acceleration, linear_acceleration_t = get_graphable_data(data, time, \"imu\", \"linear_acceleration\", getTimestamps=True)\n",
    "motor_angular_velocity,  motor_angular_velocity_t = get_graphable_data(data, time, \"motor0\", \"velocity\", getTimestamps=True)\n",
    "\n",
    "#print(linear_acceleration_t.shape,  motor_angular_velocity_t.shape)\n",
    "\n",
    "#linear_acceleration = np.array([100, 200, 300, 400])\n",
    "#motor_angular_velocity = np.array([1000, 2000, 3000, 4000])\n",
    "\n",
    "#linear_acceleration_t = np.array([1, 3, 5, 7])\n",
    "#motor_angular_velocity_t = np.array([2, 4, 6, 8])\n",
    "\n",
    "linear_acceleration_x = reduce_object_vector(linear_acceleration, \"x\")\n",
    "linear_velocity_x = integrate.cumulative_trapezoid(linear_acceleration_x, x = linear_acceleration_t)\n",
    "linear_velocity_x = np.append(linear_velocity_x, linear_velocity_x[-1])\n",
    "\n",
    "interpolated_t = np.sort(np.concatenate((linear_acceleration_t,  motor_angular_velocity_t)))\n",
    "\n",
    "linear_acceleration_interpolated = np.empty(interpolated_t.shape)\n",
    "linear_velocity_x_interpolated = np.empty(interpolated_t.shape)\n",
    "motor_angular_velocity_interpolated = np.empty(interpolated_t.shape)\n",
    "\n",
    "linear_acceleration_interpolated[0] =  linear_acceleration_x[0]\n",
    "linear_velocity_x_interpolated[0] = linear_velocity_x[0]\n",
    "motor_angular_velocity_interpolated[0] =  motor_angular_velocity[0]\n",
    "\n",
    "\n",
    "for i in range(1, interpolated_t.shape[0]):\n",
    "    t = interpolated_t[i]\n",
    "    if (t in linear_acceleration_t):\n",
    "        index = np.where(linear_acceleration_t == t)\n",
    "        linear_acceleration_interpolated[i] = linear_acceleration_x[index]\n",
    "    else:\n",
    "        linear_acceleration_interpolated[i] = linear_acceleration_interpolated[i-1]\n",
    "\n",
    "    if (t in linear_acceleration_t):\n",
    "        index = np.where(linear_acceleration_t == t)\n",
    "        linear_velocity_x_interpolated[i] = linear_velocity_x[index]\n",
    "    else:\n",
    "        linear_velocity_x_interpolated[i] = linear_velocity_x_interpolated[i-1]\n",
    "\n",
    "    if (t in motor_angular_velocity_t):\n",
    "        index = np.where(motor_angular_velocity_t == t)\n",
    "        motor_angular_velocity_interpolated[i] = motor_angular_velocity[index]\n",
    "    else:\n",
    "        motor_angular_velocity_interpolated[i] = motor_angular_velocity_interpolated[i-1]\n",
    "\n",
    "\n",
    "#slip = (wheel_angular_velocity * WHEEL_RADIUS) / linear_velocity_x\n",
    "print(linear_acceleration_interpolated)\n",
    "print(linear_velocity_x_interpolated)\n",
    "print(motor_angular_velocity_interpolated)\n"
   ]
  },
  {
   "cell_type": "code",
   "execution_count": null,
   "metadata": {},
   "outputs": [],
   "source": []
  }
 ],
 "metadata": {
  "kernelspec": {
   "display_name": "Python 3 (ipykernel)",
   "language": "python",
   "name": "python3"
  },
  "language_info": {
   "codemirror_mode": {
    "name": "ipython",
    "version": 3
   },
   "file_extension": ".py",
   "mimetype": "text/x-python",
   "name": "python",
   "nbconvert_exporter": "python",
   "pygments_lexer": "ipython3",
   "version": "3.10.12"
  }
 },
 "nbformat": 4,
 "nbformat_minor": 2
}
