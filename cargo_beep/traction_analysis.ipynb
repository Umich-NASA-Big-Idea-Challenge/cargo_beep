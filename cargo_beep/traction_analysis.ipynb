{
 "cells": [
  {
   "cell_type": "code",
   "execution_count": 1,
   "metadata": {},
   "outputs": [
    {
     "ename": "ImportError",
     "evalue": "attempted relative import with no known parent package",
     "output_type": "error",
     "traceback": [
      "\u001b[0;31m---------------------------------------------------------------------------\u001b[0m",
      "\u001b[0;31mImportError\u001b[0m                               Traceback (most recent call last)",
      "\u001b[0;32m/tmp/ipykernel_6981/2214838586.py\u001b[0m in \u001b[0;36m<module>\u001b[0;34m\u001b[0m\n\u001b[0;32m----> 1\u001b[0;31m \u001b[0;32mfrom\u001b[0m \u001b[0;34m.\u001b[0m\u001b[0mgraph_bags\u001b[0m \u001b[0;32mimport\u001b[0m \u001b[0mTopicMeta\u001b[0m\u001b[0;34m,\u001b[0m \u001b[0mget_all_data\u001b[0m\u001b[0;34m,\u001b[0m \u001b[0mget_graphable_data\u001b[0m\u001b[0;34m,\u001b[0m \u001b[0msynch_timestamps\u001b[0m\u001b[0;34m\u001b[0m\u001b[0;34m\u001b[0m\u001b[0m\n\u001b[0m",
      "\u001b[0;31mImportError\u001b[0m: attempted relative import with no known parent package"
     ]
    }
   ],
   "source": [
    "from rosbags.rosbag2 import Reader\n",
    "from rclpy.serialization import deserialize_message\n",
    "from beep_interfaces.msg import MotorData, TuningValues, Setpoints\n",
    "from std_msgs.msg import Float32\n",
    "from sensor_msgs.msg import Imu\n",
    "\n",
    "from pathlib import Path\n",
    "from glob import glob\n",
    "from pid_controller import INITIAL_ANGLE\n",
    "\n",
    "import numpy as np\n",
    "import matplotlib.pyplot as plt"
   ]
  },
  {
   "cell_type": "code",
   "execution_count": null,
   "metadata": {},
   "outputs": [],
   "source": [
    "class TopicMeta:\n",
    "    def __init__ (self, name, type):\n",
    "        self.name = name\n",
    "        self.type = type\n",
    "\n",
    "topic_metas = {\n",
    "    \"/dev0/motor_data\": TopicMeta(\"motor0\", MotorData),\n",
    "    \"/dev1/motor_data\": TopicMeta(\"motor1\", MotorData),\n",
    "    \"/imu0/data\": TopicMeta(\"imu\", Imu)\n",
    "}\n",
    "\n",
    "def get_all_data(path):\n",
    "    data = {}\n",
    "    timestamps = {}\n",
    "    \n",
    "    #read from rosbags\n",
    "    with Reader(path) as reader:\n",
    "        for connection in reader.connections:\n",
    "            if connection.topic in topic_metas.keys():\n",
    "                print(connection.topic, connection.msgtype)\n",
    "                name = topic_metas[connection.topic].name\n",
    "                data[name] = []\n",
    "                timestamps[name] = []\n",
    "\n",
    "        for connection, timestamp, rawdata in reader.messages():\n",
    "            if connection.topic in topic_metas:\n",
    "                meta = topic_metas[connection.topic]\n",
    "                msg = deserialize_message(rawdata, meta.type)\n",
    "                data[meta.name].append(msg)\n",
    "                timestamps[meta.name].append(timestamp)\n",
    "\n",
    "    #turn timestamps to time\n",
    "    time = timestamps\n",
    "    for key, val in timestamps.items():\n",
    "        time[key] = np.array(val)\n",
    "        \n",
    "    return data, time\n",
    "\n",
    "def get_graphable_data(data, time, source, attribute=\"data\", getTimestamps = False):\n",
    "    r_time = time[source]\n",
    "    if (getTimestamps==False):\n",
    "        r_time = (time[source] - time[source][0]) / 1e9\n",
    "        \n",
    "    return np.array(list(map(lambda x: getattr(x, attribute), data[source]))), r_time\n",
    "\n",
    "def synch_timestamps (timestamps):\n",
    "    earliest = min(list(map(lambda x: x[0], timestamps)))\n",
    "    times = list(map(lambda x: (x - earliest) / 1e9, timestamps))\n",
    "    return times"
   ]
  },
  {
   "cell_type": "code",
   "execution_count": null,
   "metadata": {},
   "outputs": [],
   "source": [
    "bags = glob(\"../bags/*\")\n",
    "bags.sort()\n",
    "path = Path(bags[-1])\n",
    "data, time = get_all_data(path)"
   ]
  },
  {
   "cell_type": "code",
   "execution_count": 2,
   "metadata": {},
   "outputs": [
    {
     "ename": "NameError",
     "evalue": "name 'get_graphable_data' is not defined",
     "output_type": "error",
     "traceback": [
      "\u001b[0;31m---------------------------------------------------------------------------\u001b[0m",
      "\u001b[0;31mNameError\u001b[0m                                 Traceback (most recent call last)",
      "\u001b[0;32m/tmp/ipykernel_6981/4182581073.py\u001b[0m in \u001b[0;36m<module>\u001b[0;34m\u001b[0m\n\u001b[0;32m----> 1\u001b[0;31m \u001b[0mangular_velocity\u001b[0m\u001b[0;34m,\u001b[0m \u001b[0mangular_velocity_t\u001b[0m \u001b[0;34m=\u001b[0m \u001b[0mget_graphable_data\u001b[0m\u001b[0;34m(\u001b[0m\u001b[0mdata\u001b[0m\u001b[0;34m,\u001b[0m \u001b[0mtime\u001b[0m\u001b[0;34m,\u001b[0m \u001b[0;34m\"imu\"\u001b[0m\u001b[0;34m)\u001b[0m\u001b[0;34m\u001b[0m\u001b[0;34m\u001b[0m\u001b[0m\n\u001b[0m",
      "\u001b[0;31mNameError\u001b[0m: name 'get_graphable_data' is not defined"
     ]
    }
   ],
   "source": [
    "angular_acceleration, angular_acceleration_t = get_graphable_data(data, time, \"imu\", )"
   ]
  },
  {
   "cell_type": "code",
   "execution_count": null,
   "metadata": {},
   "outputs": [],
   "source": []
  }
 ],
 "metadata": {
  "kernelspec": {
   "display_name": "Python 3 (ipykernel)",
   "language": "python",
   "name": "python3"
  },
  "language_info": {
   "codemirror_mode": {
    "name": "ipython",
    "version": 3
   },
   "file_extension": ".py",
   "mimetype": "text/x-python",
   "name": "python",
   "nbconvert_exporter": "python",
   "pygments_lexer": "ipython3",
   "version": "3.10.12"
  }
 },
 "nbformat": 4,
 "nbformat_minor": 2
}
