{
 "cells": [
  {
   "cell_type": "code",
   "execution_count": 2,
   "metadata": {},
   "outputs": [],
   "source": [
    "from rosbags.rosbag2 import Reader\n",
    "from rclpy.serialization import deserialize_message\n",
    "from beep_interfaces.msg import MotorData\n",
    "from sensor_msgs.msg import Imu\n",
    "\n",
    "from pathlib import Path\n",
    "from glob import glob\n",
    "\n",
    "import numpy as np\n",
    "import matplotlib.pyplot as plt\n",
    "import scipy.integrate as integrate\n",
    "from scipy.ndimage import gaussian_filter1d\n",
    "import math\n",
    "from scipy.spatial.transform import Rotation\n",
    "\n",
    "from traction_testing import WHEEL_RADIUS, dt, duty_profile "
   ]
  },
  {
   "cell_type": "code",
   "execution_count": 3,
   "metadata": {},
   "outputs": [
    {
     "data": {
      "text/plain": [
       "Text(0, 0.5, 'Duty')"
      ]
     },
     "execution_count": 3,
     "metadata": {},
     "output_type": "execute_result"
    },
    {
     "data": {
      "image/png": "[encoded data removed]",
      "text/plain": [
       "<Figure size 640x480 with 1 Axes>"
      ]
     },
     "metadata": {},
     "output_type": "display_data"
    }
   ],
   "source": [
    "t = np.linspace(0, len(duty_profile) * dt, len(duty_profile))\n",
    "\n",
    "plt.figure()\n",
    "plt.plot(t, duty_profile)\n",
    "\n",
    "plt.title(\"Duty Profile\")\n",
    "plt.xlabel(\"Time (s)\")\n",
    "plt.ylabel(\"Duty\")\n"
   ]
  },
  {
   "cell_type": "code",
   "execution_count": 12,
   "metadata": {},
   "outputs": [],
   "source": [
    "class TopicMeta:\n",
    "    def __init__ (self, name, type):\n",
    "        self.name = name\n",
    "        self.type = type\n",
    "\n",
    "topic_metas = {\n",
    "    \"/dev0/motor_data\": TopicMeta(\"motor0\", MotorData),\n",
    "    \"/dev1/motor_data\": TopicMeta(\"motor1\", MotorData),\n",
    "    \"/imu0/data\": TopicMeta(\"imu\", Imu)\n",
    "}\n",
    "\n",
    "def get_all_data(path):\n",
    "    data = {}\n",
    "    timestamps = {}\n",
    "    \n",
    "    #read from rosbags\n",
    "    with Reader(path) as reader:\n",
    "        for connection in reader.connections:\n",
    "            if connection.topic in topic_metas.keys():\n",
    "                print(connection.topic, connection.msgtype)\n",
    "                name = topic_metas[connection.topic].name\n",
    "                data[name] = []\n",
    "                timestamps[name] = []\n",
    "\n",
    "        for connection, timestamp, rawdata in reader.messages():\n",
    "            if connection.topic in topic_metas:\n",
    "                meta = topic_metas[connection.topic]\n",
    "                msg = deserialize_message(rawdata, meta.type)\n",
    "                data[meta.name].append(msg)\n",
    "                timestamps[meta.name].append(timestamp)\n",
    "\n",
    "    #turn timestamps to time\n",
    "    time = timestamps\n",
    "    for key, val in timestamps.items():\n",
    "        time[key] = np.array(val)\n",
    "        \n",
    "    return data, time\n",
    "\n",
    "def reduce_object_vector (vector, attribute):\n",
    "    return np.array(list(map(lambda x: getattr(x, attribute), vector)))\n",
    "    \n",
    "def get_graphable_data(data, time, source, attribute=\"data\", getTimestamps = False):\n",
    "    r_time = time[source]\n",
    "    if (getTimestamps==False):\n",
    "        r_time = (time[source] - time[source][0]) / 1e9\n",
    "        \n",
    "    return reduce_object_vector(data[source], attribute), r_time\n",
    "\n",
    "def synch_timestamps (timestamps):\n",
    "    earliest = min(list(map(lambda x: x[0], timestamps)))\n",
    "    times = list(map(lambda x: (x - earliest) / 1e9, timestamps))\n",
    "    return times\n",
    "\n",
    "def two_zeros_euler(quat): \n",
    "    rot = Rotation.from_quat((quat.x, quat.y, quat.z, quat.w))\n",
    "    rot_euler = rot.as_euler(\"xyz\", degrees=True)\n",
    "    return rot_euler\n"
   ]
  },
  {
   "cell_type": "code",
   "execution_count": 19,
   "metadata": {},
   "outputs": [
    {
     "ename": "ModuleNotFoundError",
     "evalue": "No module named 'pyquaternion'",
     "output_type": "error",
     "traceback": [
      "\u001b[0;31m---------------------------------------------------------------------------\u001b[0m",
      "\u001b[0;31mModuleNotFoundError\u001b[0m                       Traceback (most recent call last)",
      "Cell \u001b[0;32mIn[19], line 2\u001b[0m\n\u001b[1;32m      1\u001b[0m \u001b[38;5;28;01mfrom\u001b[39;00m \u001b[38;5;21;01mnumpy\u001b[39;00m \u001b[38;5;28;01mimport\u001b[39;00m cross, eye, dot\n\u001b[0;32m----> 2\u001b[0m \u001b[38;5;28;01mfrom\u001b[39;00m \u001b[38;5;21;01mpyquaternion\u001b[39;00m \u001b[38;5;28;01mimport\u001b[39;00m Quaternion\n\u001b[1;32m      4\u001b[0m \u001b[38;5;28;01mdef\u001b[39;00m \u001b[38;5;21mrad_to_deg\u001b[39m(x, y, z):\n\u001b[1;32m      5\u001b[0m     \u001b[38;5;28;01mreturn\u001b[39;00m [x \u001b[38;5;241m*\u001b[39m \u001b[38;5;241m180.0\u001b[39m \u001b[38;5;241m/\u001b[39m (\u001b[38;5;241m2\u001b[39m \u001b[38;5;241m*\u001b[39m math\u001b[38;5;241m.\u001b[39mpi), y \u001b[38;5;241m*\u001b[39m \u001b[38;5;241m180.0\u001b[39m \u001b[38;5;241m/\u001b[39m (\u001b[38;5;241m2\u001b[39m \u001b[38;5;241m*\u001b[39m math\u001b[38;5;241m.\u001b[39mpi), z \u001b[38;5;241m*\u001b[39m \u001b[38;5;241m180.0\u001b[39m \u001b[38;5;241m/\u001b[39m (\u001b[38;5;241m2\u001b[39m \u001b[38;5;241m*\u001b[39m math\u001b[38;5;241m.\u001b[39mpi)]\n",
      "\u001b[0;31mModuleNotFoundError\u001b[0m: No module named 'pyquaternion'"
     ]
    }
   ],
   "source": [
    "from numpy import cross, eye, dot\n",
    "from pyquaternion import Quaternion\n",
    "\n",
    "def rad_to_deg(x, y, z):\n",
    "    return [x * 180.0 / (2 * math.pi), y * 180.0 / (2 * math.pi), z * 180.0 / (2 * math.pi)]\n",
    "\n",
    "\n",
    "def euler_from_quaternion(q1):\n",
    "    sqw = q1.w * q1.w\n",
    "    sqx = q1.x * q1.x\n",
    "    sqy = q1.y * q1.y\n",
    "    sqz = q1.z * q1.z\n",
    "\n",
    "    unit = sqx + sqy + sqz + sqw\n",
    "    test = q1.x * q1.y + q1.z * q1.w\n",
    "\n",
    "    #heading, attitude, bank = y,z,x\n",
    "    if (test > 0.499*unit): # singularity at north pole\n",
    "        y = 2.0 * math.atan2(q1.x,q1.w)\n",
    "        z = math.pi / 2.0\n",
    "        x = 0\n",
    "        return rad_to_deg(x, y, z)\n",
    "\n",
    "    if (test < -0.499*unit): # singularity at south pole\n",
    "        y = - 2.0 * math.atan2(q1.x,q1.w)\n",
    "        z = - math.pi / 2.0\n",
    "        x = 0\n",
    "        return rad_to_deg(x, y, z)\n",
    "\n",
    "    y = math.atan2(2.0 * q1.y * q1.w - 2 * q1.x * q1.z , sqx - sqy - sqz + sqw)\n",
    "    z = math.asin(2.0 * test / unit)\n",
    "    x = math.atan2(2.0 * q1.x * q1.w-2 * q1.y * q1.z , -sqx + sqy - sqz + sqw)\n",
    "\n",
    "    #rotate to center the balance point at 0\n",
    "    origin = [0, 0, 0]\n",
    "    theta = math.pi / 2.0 #radian\n",
    "    rotated_v = Quaternion(axis=origin,angle=theta).rotate([x,y,z])\n",
    "\n",
    "    return rad_to_deg(rotated_v)"
   ]
  },
  {
   "cell_type": "code",
   "execution_count": 16,
   "metadata": {},
   "outputs": [
    {
     "name": "stdout",
     "output_type": "stream",
     "text": [
      "../bags/rosbag2_2024_09_13-22_42_03\n",
      "/dev1/motor_data beep_interfaces/msg/MotorData\n",
      "/dev0/motor_data beep_interfaces/msg/MotorData\n",
      "/imu0/data sensor_msgs/msg/Imu\n"
     ]
    }
   ],
   "source": [
    "# bags = glob(\"../bags/*\")\n",
    "# bags.sort()\n",
    "# path = Path(bags[-1])\n",
    "\n",
    "bag_num = \"rosbag2_2024_09_13-22_42_03\"\n",
    "path = glob(f\"../bags/{bag_num}\")[0]\n",
    "print(path)\n",
    "data, time = get_all_data(path)"
   ]
  },
  {
   "cell_type": "code",
   "execution_count": 17,
   "metadata": {},
   "outputs": [
    {
     "name": "stderr",
     "output_type": "stream",
     "text": [
      "/tmp/ipykernel_14537/1869198716.py:8: RuntimeWarning: invalid value encountered in true_divide\n",
      "  return expm(cross(eye(3), axis/norm(axis)*theta))\n"
     ]
    },
    {
     "ename": "ValueError",
     "evalue": "cannot convert float NaN to integer",
     "output_type": "error",
     "traceback": [
      "\u001b[0;31m---------------------------------------------------------------------------\u001b[0m",
      "\u001b[0;31mValueError\u001b[0m                                Traceback (most recent call last)",
      "Cell \u001b[0;32mIn[17], line 6\u001b[0m\n\u001b[1;32m      3\u001b[0m two_zeros_y \u001b[38;5;241m=\u001b[39m \u001b[38;5;28mlist\u001b[39m(\u001b[38;5;28mmap\u001b[39m(\u001b[38;5;28;01mlambda\u001b[39;00m coords: coords[\u001b[38;5;241m1\u001b[39m], euler_orientation))\n\u001b[1;32m      5\u001b[0m \u001b[38;5;66;03m#euler_to_quat func\u001b[39;00m\n\u001b[0;32m----> 6\u001b[0m euler_orientation \u001b[38;5;241m=\u001b[39m \u001b[38;5;28;43mlist\u001b[39;49m\u001b[43m(\u001b[49m\u001b[38;5;28;43mmap\u001b[39;49m\u001b[43m(\u001b[49m\u001b[43meuler_from_quaternion\u001b[49m\u001b[43m,\u001b[49m\u001b[43m \u001b[49m\u001b[43morientation\u001b[49m\u001b[43m)\u001b[49m\u001b[43m)\u001b[49m\n\u001b[1;32m      7\u001b[0m euler_orientation_y \u001b[38;5;241m=\u001b[39m \u001b[38;5;28mlist\u001b[39m(\u001b[38;5;28mmap\u001b[39m(\u001b[38;5;28;01mlambda\u001b[39;00m coords: coords[\u001b[38;5;241m1\u001b[39m], euler_orientation))\n\u001b[1;32m      9\u001b[0m linear_acceleration, linear_acceleration_t \u001b[38;5;241m=\u001b[39m get_graphable_data(data, time, \u001b[38;5;124m\"\u001b[39m\u001b[38;5;124mimu\u001b[39m\u001b[38;5;124m\"\u001b[39m, \u001b[38;5;124m\"\u001b[39m\u001b[38;5;124mlinear_acceleration\u001b[39m\u001b[38;5;124m\"\u001b[39m)\n",
      "Cell \u001b[0;32mIn[15], line 39\u001b[0m, in \u001b[0;36meuler_from_quaternion\u001b[0;34m(q1)\u001b[0m\n\u001b[1;32m     37\u001b[0m \u001b[38;5;66;03m#rotate to center the balance point at 0\u001b[39;00m\n\u001b[1;32m     38\u001b[0m origin \u001b[38;5;241m=\u001b[39m [\u001b[38;5;241m0\u001b[39m, \u001b[38;5;241m0\u001b[39m, \u001b[38;5;241m0\u001b[39m]\n\u001b[0;32m---> 39\u001b[0m x, y, z \u001b[38;5;241m=\u001b[39m dot(\u001b[43mM\u001b[49m\u001b[43m(\u001b[49m\u001b[43morigin\u001b[49m\u001b[43m,\u001b[49m\u001b[43m \u001b[49m\u001b[43mmath\u001b[49m\u001b[38;5;241;43m.\u001b[39;49m\u001b[43mpi\u001b[49m\u001b[43m \u001b[49m\u001b[38;5;241;43m/\u001b[39;49m\u001b[43m \u001b[49m\u001b[38;5;241;43m2.0\u001b[39;49m\u001b[43m)\u001b[49m, [x, y, z])\n\u001b[1;32m     41\u001b[0m \u001b[38;5;28;01mreturn\u001b[39;00m rad_to_deg(x, y, z)\n",
      "Cell \u001b[0;32mIn[15], line 8\u001b[0m, in \u001b[0;36mM\u001b[0;34m(axis, theta)\u001b[0m\n\u001b[1;32m      7\u001b[0m \u001b[38;5;28;01mdef\u001b[39;00m \u001b[38;5;21mM\u001b[39m(axis, theta):\n\u001b[0;32m----> 8\u001b[0m     \u001b[38;5;28;01mreturn\u001b[39;00m \u001b[43mexpm\u001b[49m\u001b[43m(\u001b[49m\u001b[43mcross\u001b[49m\u001b[43m(\u001b[49m\u001b[43meye\u001b[49m\u001b[43m(\u001b[49m\u001b[38;5;241;43m3\u001b[39;49m\u001b[43m)\u001b[49m\u001b[43m,\u001b[49m\u001b[43m \u001b[49m\u001b[43maxis\u001b[49m\u001b[38;5;241;43m/\u001b[39;49m\u001b[43mnorm\u001b[49m\u001b[43m(\u001b[49m\u001b[43maxis\u001b[49m\u001b[43m)\u001b[49m\u001b[38;5;241;43m*\u001b[39;49m\u001b[43mtheta\u001b[49m\u001b[43m)\u001b[49m\u001b[43m)\u001b[49m\n",
      "File \u001b[0;32m/usr/lib/python3/dist-packages/scipy/linalg/_matfuncs.py:255\u001b[0m, in \u001b[0;36mexpm\u001b[0;34m(A)\u001b[0m\n\u001b[1;32m    253\u001b[0m \u001b[38;5;66;03m# Input checking and conversion is provided by sparse.linalg.expm().\u001b[39;00m\n\u001b[1;32m    254\u001b[0m \u001b[38;5;28;01mimport\u001b[39;00m \u001b[38;5;21;01mscipy\u001b[39;00m\u001b[38;5;21;01m.\u001b[39;00m\u001b[38;5;21;01msparse\u001b[39;00m\u001b[38;5;21;01m.\u001b[39;00m\u001b[38;5;21;01mlinalg\u001b[39;00m\n\u001b[0;32m--> 255\u001b[0m \u001b[38;5;28;01mreturn\u001b[39;00m \u001b[43mscipy\u001b[49m\u001b[38;5;241;43m.\u001b[39;49m\u001b[43msparse\u001b[49m\u001b[38;5;241;43m.\u001b[39;49m\u001b[43mlinalg\u001b[49m\u001b[38;5;241;43m.\u001b[39;49m\u001b[43mexpm\u001b[49m\u001b[43m(\u001b[49m\u001b[43mA\u001b[49m\u001b[43m)\u001b[49m\n",
      "File \u001b[0;32m/usr/lib/python3/dist-packages/scipy/sparse/linalg/_matfuncs.py:590\u001b[0m, in \u001b[0;36mexpm\u001b[0;34m(A)\u001b[0m\n\u001b[1;32m    545\u001b[0m \u001b[38;5;28;01mdef\u001b[39;00m \u001b[38;5;21mexpm\u001b[39m(A):\n\u001b[1;32m    546\u001b[0m     \u001b[38;5;124;03m\"\"\"\u001b[39;00m\n\u001b[1;32m    547\u001b[0m \u001b[38;5;124;03m    Compute the matrix exponential using Pade approximation.\u001b[39;00m\n\u001b[1;32m    548\u001b[0m \n\u001b[0;32m   (...)\u001b[0m\n\u001b[1;32m    588\u001b[0m \u001b[38;5;124;03m           [  0.        ,   0.        ,  20.08553692]])\u001b[39;00m\n\u001b[1;32m    589\u001b[0m \u001b[38;5;124;03m    \"\"\"\u001b[39;00m\n\u001b[0;32m--> 590\u001b[0m     \u001b[38;5;28;01mreturn\u001b[39;00m \u001b[43m_expm\u001b[49m\u001b[43m(\u001b[49m\u001b[43mA\u001b[49m\u001b[43m,\u001b[49m\u001b[43m \u001b[49m\u001b[43muse_exact_onenorm\u001b[49m\u001b[38;5;241;43m=\u001b[39;49m\u001b[38;5;124;43m'\u001b[39;49m\u001b[38;5;124;43mauto\u001b[39;49m\u001b[38;5;124;43m'\u001b[39;49m\u001b[43m)\u001b[49m\n",
      "File \u001b[0;32m/usr/lib/python3/dist-packages/scipy/sparse/linalg/_matfuncs.py:669\u001b[0m, in \u001b[0;36m_expm\u001b[0;34m(A, use_exact_onenorm)\u001b[0m\n\u001b[1;32m    667\u001b[0m     s \u001b[38;5;241m=\u001b[39m \u001b[38;5;241m0\u001b[39m\n\u001b[1;32m    668\u001b[0m \u001b[38;5;28;01melse\u001b[39;00m:\n\u001b[0;32m--> 669\u001b[0m     s \u001b[38;5;241m=\u001b[39m \u001b[38;5;28mmax\u001b[39m(\u001b[38;5;28;43mint\u001b[39;49m\u001b[43m(\u001b[49m\u001b[43mnp\u001b[49m\u001b[38;5;241;43m.\u001b[39;49m\u001b[43mceil\u001b[49m\u001b[43m(\u001b[49m\u001b[43mnp\u001b[49m\u001b[38;5;241;43m.\u001b[39;49m\u001b[43mlog2\u001b[49m\u001b[43m(\u001b[49m\u001b[43meta_5\u001b[49m\u001b[43m \u001b[49m\u001b[38;5;241;43m/\u001b[39;49m\u001b[43m \u001b[49m\u001b[43mtheta_13\u001b[49m\u001b[43m)\u001b[49m\u001b[43m)\u001b[49m\u001b[43m)\u001b[49m, \u001b[38;5;241m0\u001b[39m)\n\u001b[1;32m    670\u001b[0m s \u001b[38;5;241m=\u001b[39m s \u001b[38;5;241m+\u001b[39m _ell(\u001b[38;5;241m2\u001b[39m\u001b[38;5;241m*\u001b[39m\u001b[38;5;241m*\u001b[39m\u001b[38;5;241m-\u001b[39ms \u001b[38;5;241m*\u001b[39m h\u001b[38;5;241m.\u001b[39mA, \u001b[38;5;241m13\u001b[39m)\n\u001b[1;32m    671\u001b[0m U, V \u001b[38;5;241m=\u001b[39m h\u001b[38;5;241m.\u001b[39mpade13_scaled(s)\n",
      "\u001b[0;31mValueError\u001b[0m: cannot convert float NaN to integer"
     ]
    }
   ],
   "source": [
    "orientation, orientation_t = get_graphable_data(data, time, \"imu\", \"orientation\")\n",
    "euler_orientation = list(map(two_zeros_euler, orientation))\n",
    "two_zeros_y = list(map(lambda coords: coords[1], euler_orientation))\n",
    "\n",
    "#euler_to_quat func\n",
    "euler_orientation = list(map(euler_from_quaternion, orientation))\n",
    "euler_orientation_y = list(map(lambda coords: coords[1], euler_orientation))\n",
    "\n",
    "linear_acceleration, linear_acceleration_t = get_graphable_data(data, time, \"imu\", \"linear_acceleration\")\n",
    "linear_acceleration_x = list(map(lambda coords: coords.x, linear_acceleration))\n",
    "\n",
    "\n",
    "fig1, ax1 = plt.subplots()\n",
    "ax1.plot(orientation_t, euler_orientation_y, \"r\")\n",
    "ax1.plot(orientation_t, two_zeros_y, \"b\")\n",
    "ax1.set_xlabel(\"Time (s)\")\n",
    "ax1.set_ylabel(\"Lean Angle\")\n",
    "ax1.set_title(\"Lean Angle\")"
   ]
  },
  {
   "cell_type": "code",
   "execution_count": null,
   "metadata": {},
   "outputs": [],
   "source": []
  }
 ],
 "metadata": {
  "kernelspec": {
   "display_name": "Python 3 (ipykernel)",
   "language": "python",
   "name": "python3"
  },
  "language_info": {
   "codemirror_mode": {
    "name": "ipython",
    "version": 3
   },
   "file_extension": ".py",
   "mimetype": "text/x-python",
   "name": "python",
   "nbconvert_exporter": "python",
   "pygments_lexer": "ipython3",
   "version": "3.10.12"
  }
 },
 "nbformat": 4,
 "nbformat_minor": 2
}
